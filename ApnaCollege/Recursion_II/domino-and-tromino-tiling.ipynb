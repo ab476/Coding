{
 "cells": [
  {
   "cell_type": "code",
   "execution_count": 14,
   "id": "ab812ece",
   "metadata": {},
   "outputs": [],
   "source": [
    "\n",
    "def numTilings(n: int) -> int:\n",
    "\n",
    "    def f(n: int, t1: bool, t2: bool, memo: dict) -> int:\n",
    "        if (n, t1 and t2) in memo:\n",
    "            return memo[(n, t1 and t2)]\n",
    "        if n == 1 or n == 0:\n",
    "            return 1\n",
    "        \n",
    "        t3, t4 = n > 1, n > 1\n",
    "        ways = 0\n",
    "        if(t1 and t2):\n",
    "            ways += f(n - 1, t3, t4, memo)\n",
    "        if(t1 and t2 and t3 and t4):\n",
    "            ways += f(n - 2, n-2 > 0, n-2 > 0, memo)\n",
    "        if(t1 and t2 and t3):\n",
    "            ways += f(n - 1, False, True, memo)\n",
    "        if(t1 and t2 and t4):\n",
    "            ways += f(n - 1, True, False, memo)\n",
    "        if(t1 is False and t2 and t4):\n",
    "            ways += f(n - 1, True, False, memo) * 2\n",
    "        if(t1 is False and t2 and t3 and t4):\n",
    "            ways += f(n - 2, n - 2 > 0, n - 2 > 0, memo) * 2\n",
    "\n",
    "        memo[(n, t1 and t2)] = ways % (10**9 + 7)\n",
    "        return memo[(n, t1 and t2)]\n",
    "    \n",
    "    return f(n, n > 0, n > 0, {})\n",
    "\n",
    "\n"
   ]
  },
  {
   "cell_type": "code",
   "execution_count": 13,
   "id": "3bee9470",
   "metadata": {},
   "outputs": [
    {
     "data": {
      "text/plain": [
       "13"
      ]
     },
     "execution_count": 13,
     "metadata": {},
     "output_type": "execute_result"
    }
   ],
   "source": [
    "numTilings(3)"
   ]
  },
  {
   "cell_type": "code",
   "execution_count": null,
   "id": "8a5495ef",
   "metadata": {},
   "outputs": [],
   "source": []
  }
 ],
 "metadata": {
  "kernelspec": {
   "display_name": "base",
   "language": "python",
   "name": "python3"
  },
  "language_info": {
   "codemirror_mode": {
    "name": "ipython",
    "version": 3
   },
   "file_extension": ".py",
   "mimetype": "text/x-python",
   "name": "python",
   "nbconvert_exporter": "python",
   "pygments_lexer": "ipython3",
   "version": "3.12.7"
  }
 },
 "nbformat": 4,
 "nbformat_minor": 5
}
