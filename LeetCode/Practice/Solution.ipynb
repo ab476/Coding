{
 "cells": [
  {
   "cell_type": "code",
   "execution_count": null,
   "id": "1014aca8",
   "metadata": {},
   "outputs": [],
   "source": [
    "from typing import List\n",
    "from collections import deque\n",
    "\n",
    "def maxSlidingWindow(nums: List[int], k: int) -> List[int]:\n",
    "    dq: deque[int] = deque()\n",
    "\n",
    "    for num in nums:\n",
    "        if dq and len(dq) >= k:\n",
    "            dq.popleft()\n",
    "        \n",
    "        dq.append(num)\n",
    "    return list(dq)\n"
   ]
  }
 ],
 "metadata": {
  "language_info": {
   "name": "python"
  }
 },
 "nbformat": 4,
 "nbformat_minor": 5
}
