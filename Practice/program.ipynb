{
 "cells": [
  {
   "cell_type": "code",
   "execution_count": 2,
   "id": "944f3e98",
   "metadata": {},
   "outputs": [],
   "source": [
    "from itertools import groupby\n"
   ]
  },
  {
   "cell_type": "code",
   "execution_count": 17,
   "id": "c58ddcb1",
   "metadata": {},
   "outputs": [],
   "source": [
    "\n",
    "\n",
    "things =  ['goat', 'dog', 'donkey', 'mulato', 'cow', 'cat', ('persons', 'man', 'woman'), \\\n",
    "               'wombat', 'mongoose', 'malloo', 'camel']\n",
    "dic: dict[str, list[str]] = {}\n"
   ]
  },
  {
   "cell_type": "code",
   "execution_count": 1,
   "id": "556c1233",
   "metadata": {},
   "outputs": [
    {
     "data": {
      "text/plain": [
       "['d', 'a', 's', 'f', 'd']"
      ]
     },
     "execution_count": 1,
     "metadata": {},
     "output_type": "execute_result"
    }
   ],
   "source": [
    "list(\"dasfd\")"
   ]
  },
  {
   "cell_type": "code",
   "execution_count": null,
   "id": "bc13fb78",
   "metadata": {},
   "outputs": [],
   "source": []
  }
 ],
 "metadata": {
  "kernelspec": {
   "display_name": "base",
   "language": "python",
   "name": "python3"
  },
  "language_info": {
   "codemirror_mode": {
    "name": "ipython",
    "version": 3
   },
   "file_extension": ".py",
   "mimetype": "text/x-python",
   "name": "python",
   "nbconvert_exporter": "python",
   "pygments_lexer": "ipython3",
   "version": "3.12.7"
  }
 },
 "nbformat": 4,
 "nbformat_minor": 5
}
